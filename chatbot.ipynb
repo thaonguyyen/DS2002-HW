{
  "cells": [
    {
      "cell_type": "markdown",
      "metadata": {
        "id": "view-in-github",
        "colab_type": "text"
      },
      "source": [
        "<a href=\"https://colab.research.google.com/github/thaonguyyen/DS2002-HW/blob/main/chatbot.ipynb\" target=\"_parent\"><img src=\"https://colab.research.google.com/assets/colab-badge.svg\" alt=\"Open In Colab\"/></a>"
      ]
    },
    {
      "cell_type": "markdown",
      "source": [
        "Thao Nguyen (vdk4dy)\n",
        "\n",
        "Matthew Haid (wsd6vn)\n",
        "\n",
        "Larissa Cybyk (jdj9nj)"
      ],
      "metadata": {
        "id": "H3CagbLXY_pT"
      }
    },
    {
      "cell_type": "markdown",
      "metadata": {
        "id": "BuGlpHM-_-PK"
      },
      "source": [
        "Import necessary libraries:"
      ]
    },
    {
      "cell_type": "code",
      "execution_count": 82,
      "metadata": {
        "id": "_x4wfrienBMd"
      },
      "outputs": [],
      "source": [
        "import tensorflow as tf\n",
        "from tensorflow.keras.layers import Input, LSTM, Dense, Embedding\n",
        "from tensorflow.keras.models import Model\n",
        "import numpy as np\n",
        "import requests"
      ]
    },
    {
      "cell_type": "code",
      "source": [
        "def get_weather_forecast(city_name):\n",
        "    # Tomorrow.io API URL and key\n",
        "    api_key = 'c4zmWjxrILFRN50mkGeSIQ71MPJhJjuq'\n",
        "    url = f'https://api.tomorrow.io/v4/weather/forecast?location={city_name}&apikey={api_key}'\n",
        "\n",
        "    # Make the GET request\n",
        "    response = requests.get(url)\n",
        "\n",
        "    # Check if the request was successful\n",
        "    if response.status_code == 200:\n",
        "        # Parse the JSON response\n",
        "        data = response.json()\n",
        "        return data[\"timelines\"]['hourly'][0]\n",
        "    else:\n",
        "        return f'Failed to get weather forecast. Status code: {response.status_code}'"
      ],
      "metadata": {
        "id": "H4REcTYcTF9h"
      },
      "execution_count": 83,
      "outputs": []
    },
    {
      "cell_type": "markdown",
      "metadata": {
        "id": "xQQkJ-8BA24f"
      },
      "source": [
        "Initialize chatbot:"
      ]
    },
    {
      "cell_type": "code",
      "execution_count": 84,
      "metadata": {
        "id": "IZ1GmjxNA7SV"
      },
      "outputs": [],
      "source": [
        "questions = [\n",
        "    'Hello.',\n",
        "    'Hey',\n",
        "    'Hi',\n",
        "    'How are you?',\n",
        "    'What is your name?',\n",
        "    'Bye',\n",
        "    'Goodbye',\n",
        "    'Later',\n",
        "    'What is the weather?'\n",
        "]\n",
        "\n",
        "answers = [\n",
        "    'Hello.',\n",
        "    'Hey!',\n",
        "    'Hi!',\n",
        "    'I am just a bot, but I am doing fine.',\n",
        "    'I am a chatbot created by OpenAI.',\n",
        "    'Bye!',\n",
        "    'Goodbye. See you later!',\n",
        "    'See you later!',\n",
        "    'Let me check the weather.'\n",
        "]"
      ]
    },
    {
      "cell_type": "markdown",
      "metadata": {
        "id": "5vXz438NzAw1"
      },
      "source": [
        "Tokenize the questions and answers:"
      ]
    },
    {
      "cell_type": "code",
      "execution_count": 85,
      "metadata": {
        "id": "FVXkWaGLy_eT"
      },
      "outputs": [],
      "source": [
        "# tokenize the sentences\n",
        "tokenizer = tf.keras.preprocessing.text.Tokenizer()\n",
        "tokenizer.fit_on_texts(questions + answers)\n",
        "sequences_questions = tokenizer.texts_to_sequences(questions)\n",
        "sequences_answers = tokenizer.texts_to_sequences(answers)\n",
        "\n",
        "# pad the sequences\n",
        "max_length = max(max(len(seq) for seq in sequences_questions), max(len(seq) for seq in sequences_answers))\n",
        "padded_questions = tf.keras.preprocessing.sequence.pad_sequences(sequences_questions, maxlen=max_length, padding='post')\n",
        "padded_answers = tf.keras.preprocessing.sequence.pad_sequences(sequences_answers, maxlen=max_length, padding='post')\n",
        "\n",
        "# vocabulary size\n",
        "vocab_size = len(tokenizer.word_index) + 1"
      ]
    },
    {
      "cell_type": "markdown",
      "metadata": {
        "id": "D_B2V3ta0Bze"
      },
      "source": [
        "Define model:"
      ]
    },
    {
      "cell_type": "code",
      "execution_count": 86,
      "metadata": {
        "colab": {
          "base_uri": "https://localhost:8080/"
        },
        "id": "5-Ree8oI0CcG",
        "outputId": "fc444ab9-8fef-45ea-cdc6-afb4565a9e0d"
      },
      "outputs": [
        {
          "output_type": "stream",
          "name": "stdout",
          "text": [
            "Model: \"model_11\"\n",
            "__________________________________________________________________________________________________\n",
            " Layer (type)                Output Shape                 Param #   Connected to                  \n",
            "==================================================================================================\n",
            " input_23 (InputLayer)       [(None, None)]               0         []                            \n",
            "                                                                                                  \n",
            " input_24 (InputLayer)       [(None, None)]               0         []                            \n",
            "                                                                                                  \n",
            " embedding_22 (Embedding)    (None, None, 256)            8192      ['input_23[0][0]']            \n",
            "                                                                                                  \n",
            " embedding_23 (Embedding)    (None, None, 256)            8192      ['input_24[0][0]']            \n",
            "                                                                                                  \n",
            " lstm_22 (LSTM)              [(None, 1024),               5246976   ['embedding_22[0][0]']        \n",
            "                              (None, 1024),                                                       \n",
            "                              (None, 1024)]                                                       \n",
            "                                                                                                  \n",
            " lstm_23 (LSTM)              [(None, None, 1024),         5246976   ['embedding_23[0][0]',        \n",
            "                              (None, 1024),                          'lstm_22[0][1]',             \n",
            "                              (None, 1024)]                          'lstm_22[0][2]']             \n",
            "                                                                                                  \n",
            " dense_11 (Dense)            (None, None, 32)             32800     ['lstm_23[0][0]']             \n",
            "                                                                                                  \n",
            "==================================================================================================\n",
            "Total params: 10543136 (40.22 MB)\n",
            "Trainable params: 10543136 (40.22 MB)\n",
            "Non-trainable params: 0 (0.00 Byte)\n",
            "__________________________________________________________________________________________________\n"
          ]
        }
      ],
      "source": [
        "# define model parameters\n",
        "embedding_dim = 256\n",
        "units = 1024\n",
        "\n",
        "# define the encoder model\n",
        "encoder_inputs = Input(shape=(None,))\n",
        "encoder_embedding = Embedding(vocab_size, embedding_dim)(encoder_inputs)\n",
        "encoder_outputs, state_h, state_c = LSTM(units, return_state=True)(encoder_embedding)\n",
        "encoder_states = [state_h, state_c]\n",
        "\n",
        "# define the decoder model\n",
        "decoder_inputs = Input(shape=(None,))\n",
        "decoder_embedding = Embedding(vocab_size, embedding_dim)(decoder_inputs)\n",
        "decoder_lstm = LSTM(units, return_sequences=True, return_state=True)\n",
        "decoder_outputs, _, _ = decoder_lstm(decoder_embedding, initial_state=encoder_states)\n",
        "decoder_dense = Dense(vocab_size, activation='softmax')\n",
        "decoder_outputs = decoder_dense(decoder_outputs)\n",
        "\n",
        "# define the seq2seq model\n",
        "model = Model([encoder_inputs, decoder_inputs], decoder_outputs)\n",
        "\n",
        "# compile the model\n",
        "model.compile(optimizer='rmsprop', loss='sparse_categorical_crossentropy', metrics=['accuracy'])\n",
        "\n",
        "# summary of the model\n",
        "model.summary()"
      ]
    },
    {
      "cell_type": "markdown",
      "metadata": {
        "id": "9KrZvCag0Q2i"
      },
      "source": [
        "Prepare decoder and train model:"
      ]
    },
    {
      "cell_type": "code",
      "execution_count": 87,
      "metadata": {
        "colab": {
          "base_uri": "https://localhost:8080/"
        },
        "id": "QT6mgGjh0T5b",
        "outputId": "bf5856ce-a991-4414-a911-6c6f185c4e60"
      },
      "outputs": [
        {
          "output_type": "stream",
          "name": "stdout",
          "text": [
            "Epoch 1/100\n",
            "5/5 [==============================] - 4s 54ms/step - loss: 3.1100 - accuracy: 0.4778\n",
            "Epoch 2/100\n",
            "5/5 [==============================] - 0s 31ms/step - loss: 1.7688 - accuracy: 0.6333\n",
            "Epoch 3/100\n",
            "5/5 [==============================] - 0s 29ms/step - loss: 1.8425 - accuracy: 0.6333\n",
            "Epoch 4/100\n",
            "5/5 [==============================] - 0s 14ms/step - loss: 2.3454 - accuracy: 0.6333\n",
            "Epoch 5/100\n",
            "5/5 [==============================] - 0s 28ms/step - loss: 1.8448 - accuracy: 0.6333\n",
            "Epoch 6/100\n",
            "5/5 [==============================] - 0s 14ms/step - loss: 1.6292 - accuracy: 0.6333\n",
            "Epoch 7/100\n",
            "5/5 [==============================] - 0s 13ms/step - loss: 1.4073 - accuracy: 0.6222\n",
            "Epoch 8/100\n",
            "5/5 [==============================] - 0s 14ms/step - loss: 1.7817 - accuracy: 0.6333\n",
            "Epoch 9/100\n",
            "5/5 [==============================] - 0s 13ms/step - loss: 1.6707 - accuracy: 0.6333\n",
            "Epoch 10/100\n",
            "5/5 [==============================] - 0s 13ms/step - loss: 1.6245 - accuracy: 0.6333\n",
            "Epoch 11/100\n",
            "5/5 [==============================] - 0s 14ms/step - loss: 1.5195 - accuracy: 0.6444\n",
            "Epoch 12/100\n",
            "5/5 [==============================] - 0s 12ms/step - loss: 1.9204 - accuracy: 0.5000\n",
            "Epoch 13/100\n",
            "5/5 [==============================] - 0s 13ms/step - loss: 1.4891 - accuracy: 0.6444\n",
            "Epoch 14/100\n",
            "5/5 [==============================] - 0s 14ms/step - loss: 1.3029 - accuracy: 0.6667\n",
            "Epoch 15/100\n",
            "5/5 [==============================] - 0s 12ms/step - loss: 1.2348 - accuracy: 0.6556\n",
            "Epoch 16/100\n",
            "5/5 [==============================] - 0s 12ms/step - loss: 1.3990 - accuracy: 0.6222\n",
            "Epoch 17/100\n",
            "5/5 [==============================] - 0s 12ms/step - loss: 1.1845 - accuracy: 0.6556\n",
            "Epoch 18/100\n",
            "5/5 [==============================] - 0s 12ms/step - loss: 1.1005 - accuracy: 0.6778\n",
            "Epoch 19/100\n",
            "5/5 [==============================] - 0s 12ms/step - loss: 1.1576 - accuracy: 0.6333\n",
            "Epoch 20/100\n",
            "5/5 [==============================] - 0s 12ms/step - loss: 2.4146 - accuracy: 0.4778\n",
            "Epoch 21/100\n",
            "5/5 [==============================] - 0s 12ms/step - loss: 1.1173 - accuracy: 0.6667\n",
            "Epoch 22/100\n",
            "5/5 [==============================] - 0s 12ms/step - loss: 1.0418 - accuracy: 0.7000\n",
            "Epoch 23/100\n",
            "5/5 [==============================] - 0s 12ms/step - loss: 1.0241 - accuracy: 0.7222\n",
            "Epoch 24/100\n",
            "5/5 [==============================] - 0s 12ms/step - loss: 1.1236 - accuracy: 0.6333\n",
            "Epoch 25/100\n",
            "5/5 [==============================] - 0s 12ms/step - loss: 0.9893 - accuracy: 0.6556\n",
            "Epoch 26/100\n",
            "5/5 [==============================] - 0s 12ms/step - loss: 0.8724 - accuracy: 0.6889\n",
            "Epoch 27/100\n",
            "5/5 [==============================] - 0s 12ms/step - loss: 0.9594 - accuracy: 0.6667\n",
            "Epoch 28/100\n",
            "5/5 [==============================] - 0s 12ms/step - loss: 1.0223 - accuracy: 0.6778\n",
            "Epoch 29/100\n",
            "5/5 [==============================] - 0s 13ms/step - loss: 0.9851 - accuracy: 0.6556\n",
            "Epoch 30/100\n",
            "5/5 [==============================] - 0s 12ms/step - loss: 1.0480 - accuracy: 0.6111\n",
            "Epoch 31/100\n",
            "5/5 [==============================] - 0s 12ms/step - loss: 0.8516 - accuracy: 0.6778\n",
            "Epoch 32/100\n",
            "5/5 [==============================] - 0s 12ms/step - loss: 0.7196 - accuracy: 0.7333\n",
            "Epoch 33/100\n",
            "5/5 [==============================] - 0s 12ms/step - loss: 0.9855 - accuracy: 0.6778\n",
            "Epoch 34/100\n",
            "5/5 [==============================] - 0s 12ms/step - loss: 0.7552 - accuracy: 0.6889\n",
            "Epoch 35/100\n",
            "5/5 [==============================] - 0s 12ms/step - loss: 0.9388 - accuracy: 0.7111\n",
            "Epoch 36/100\n",
            "5/5 [==============================] - 0s 12ms/step - loss: 0.8025 - accuracy: 0.6778\n",
            "Epoch 37/100\n",
            "5/5 [==============================] - 0s 12ms/step - loss: 0.9140 - accuracy: 0.7111\n",
            "Epoch 38/100\n",
            "5/5 [==============================] - 0s 12ms/step - loss: 0.7654 - accuracy: 0.7556\n",
            "Epoch 39/100\n",
            "5/5 [==============================] - 0s 12ms/step - loss: 0.7484 - accuracy: 0.6556\n",
            "Epoch 40/100\n",
            "5/5 [==============================] - 0s 12ms/step - loss: 0.7582 - accuracy: 0.7000\n",
            "Epoch 41/100\n",
            "5/5 [==============================] - 0s 12ms/step - loss: 1.0041 - accuracy: 0.6778\n",
            "Epoch 42/100\n",
            "5/5 [==============================] - 0s 12ms/step - loss: 0.7868 - accuracy: 0.6778\n",
            "Epoch 43/100\n",
            "5/5 [==============================] - 0s 12ms/step - loss: 0.7915 - accuracy: 0.6667\n",
            "Epoch 44/100\n",
            "5/5 [==============================] - 0s 12ms/step - loss: 0.7703 - accuracy: 0.6667\n",
            "Epoch 45/100\n",
            "5/5 [==============================] - 0s 13ms/step - loss: 0.5692 - accuracy: 0.7444\n",
            "Epoch 46/100\n",
            "5/5 [==============================] - 0s 12ms/step - loss: 0.6453 - accuracy: 0.7667\n",
            "Epoch 47/100\n",
            "5/5 [==============================] - 0s 12ms/step - loss: 0.6570 - accuracy: 0.7000\n",
            "Epoch 48/100\n",
            "5/5 [==============================] - 0s 12ms/step - loss: 0.6078 - accuracy: 0.7333\n",
            "Epoch 49/100\n",
            "5/5 [==============================] - 0s 12ms/step - loss: 0.8455 - accuracy: 0.6889\n",
            "Epoch 50/100\n",
            "5/5 [==============================] - 0s 12ms/step - loss: 1.3136 - accuracy: 0.5778\n",
            "Epoch 51/100\n",
            "5/5 [==============================] - 0s 12ms/step - loss: 0.6443 - accuracy: 0.7333\n",
            "Epoch 52/100\n",
            "5/5 [==============================] - 0s 12ms/step - loss: 0.6021 - accuracy: 0.7556\n",
            "Epoch 53/100\n",
            "5/5 [==============================] - 0s 12ms/step - loss: 0.5172 - accuracy: 0.8000\n",
            "Epoch 54/100\n",
            "5/5 [==============================] - 0s 12ms/step - loss: 0.5928 - accuracy: 0.7222\n",
            "Epoch 55/100\n",
            "5/5 [==============================] - 0s 12ms/step - loss: 0.5345 - accuracy: 0.7333\n",
            "Epoch 56/100\n",
            "5/5 [==============================] - 0s 12ms/step - loss: 0.7770 - accuracy: 0.6556\n",
            "Epoch 57/100\n",
            "5/5 [==============================] - 0s 12ms/step - loss: 0.4726 - accuracy: 0.8778\n",
            "Epoch 58/100\n",
            "5/5 [==============================] - 0s 12ms/step - loss: 0.4971 - accuracy: 0.6667\n",
            "Epoch 59/100\n",
            "5/5 [==============================] - 0s 12ms/step - loss: 0.5765 - accuracy: 0.7333\n",
            "Epoch 60/100\n",
            "5/5 [==============================] - 0s 12ms/step - loss: 0.9289 - accuracy: 0.6000\n",
            "Epoch 61/100\n",
            "5/5 [==============================] - 0s 14ms/step - loss: 0.4489 - accuracy: 0.8333\n",
            "Epoch 62/100\n",
            "5/5 [==============================] - 0s 12ms/step - loss: 0.5892 - accuracy: 0.7333\n",
            "Epoch 63/100\n",
            "5/5 [==============================] - 0s 12ms/step - loss: 0.6189 - accuracy: 0.7111\n",
            "Epoch 64/100\n",
            "5/5 [==============================] - 0s 12ms/step - loss: 0.4129 - accuracy: 0.7889\n",
            "Epoch 65/100\n",
            "5/5 [==============================] - 0s 12ms/step - loss: 0.4382 - accuracy: 0.8111\n",
            "Epoch 66/100\n",
            "5/5 [==============================] - 0s 12ms/step - loss: 0.5385 - accuracy: 0.7444\n",
            "Epoch 67/100\n",
            "5/5 [==============================] - 0s 12ms/step - loss: 0.4159 - accuracy: 0.8000\n",
            "Epoch 68/100\n",
            "5/5 [==============================] - 0s 12ms/step - loss: 0.7616 - accuracy: 0.6778\n",
            "Epoch 69/100\n",
            "5/5 [==============================] - 0s 12ms/step - loss: 0.4571 - accuracy: 0.8444\n",
            "Epoch 70/100\n",
            "5/5 [==============================] - 0s 12ms/step - loss: 0.3309 - accuracy: 0.8333\n",
            "Epoch 71/100\n",
            "5/5 [==============================] - 0s 12ms/step - loss: 0.3490 - accuracy: 0.8222\n",
            "Epoch 72/100\n",
            "5/5 [==============================] - 0s 12ms/step - loss: 0.3123 - accuracy: 0.8778\n",
            "Epoch 73/100\n",
            "5/5 [==============================] - 0s 12ms/step - loss: 0.3788 - accuracy: 0.8556\n",
            "Epoch 74/100\n",
            "5/5 [==============================] - 0s 12ms/step - loss: 0.4602 - accuracy: 0.7333\n",
            "Epoch 75/100\n",
            "5/5 [==============================] - 0s 12ms/step - loss: 0.6978 - accuracy: 0.6667\n",
            "Epoch 76/100\n",
            "5/5 [==============================] - 0s 12ms/step - loss: 0.3850 - accuracy: 0.8000\n",
            "Epoch 77/100\n",
            "5/5 [==============================] - 0s 12ms/step - loss: 0.3897 - accuracy: 0.8556\n",
            "Epoch 78/100\n",
            "5/5 [==============================] - 0s 12ms/step - loss: 0.7396 - accuracy: 0.7556\n",
            "Epoch 79/100\n",
            "5/5 [==============================] - 0s 12ms/step - loss: 0.7475 - accuracy: 0.8000\n",
            "Epoch 80/100\n",
            "5/5 [==============================] - 0s 12ms/step - loss: 0.3054 - accuracy: 0.8778\n",
            "Epoch 81/100\n",
            "5/5 [==============================] - 0s 12ms/step - loss: 0.2119 - accuracy: 0.9556\n",
            "Epoch 82/100\n",
            "5/5 [==============================] - 0s 12ms/step - loss: 0.2200 - accuracy: 0.9444\n",
            "Epoch 83/100\n",
            "5/5 [==============================] - 0s 12ms/step - loss: 0.1520 - accuracy: 0.9667\n",
            "Epoch 84/100\n",
            "5/5 [==============================] - 0s 12ms/step - loss: 0.1439 - accuracy: 0.9667\n",
            "Epoch 85/100\n",
            "5/5 [==============================] - 0s 12ms/step - loss: 0.2308 - accuracy: 0.9222\n",
            "Epoch 86/100\n",
            "5/5 [==============================] - 0s 12ms/step - loss: 0.2022 - accuracy: 0.9333\n",
            "Epoch 87/100\n",
            "5/5 [==============================] - 0s 12ms/step - loss: 0.9118 - accuracy: 0.7111\n",
            "Epoch 88/100\n",
            "5/5 [==============================] - 0s 12ms/step - loss: 0.3537 - accuracy: 0.8778\n",
            "Epoch 89/100\n",
            "5/5 [==============================] - 0s 12ms/step - loss: 0.2051 - accuracy: 0.9111\n",
            "Epoch 90/100\n",
            "5/5 [==============================] - 0s 12ms/step - loss: 0.1563 - accuracy: 0.9556\n",
            "Epoch 91/100\n",
            "5/5 [==============================] - 0s 12ms/step - loss: 0.1764 - accuracy: 0.9556\n",
            "Epoch 92/100\n",
            "5/5 [==============================] - 0s 13ms/step - loss: 0.2908 - accuracy: 0.9222\n",
            "Epoch 93/100\n",
            "5/5 [==============================] - 0s 12ms/step - loss: 0.1628 - accuracy: 0.9222\n",
            "Epoch 94/100\n",
            "5/5 [==============================] - 0s 12ms/step - loss: 0.3586 - accuracy: 0.8667\n",
            "Epoch 95/100\n",
            "5/5 [==============================] - 0s 12ms/step - loss: 0.0918 - accuracy: 0.9667\n",
            "Epoch 96/100\n",
            "5/5 [==============================] - 0s 12ms/step - loss: 0.1136 - accuracy: 0.9556\n",
            "Epoch 97/100\n",
            "5/5 [==============================] - 0s 12ms/step - loss: 0.1229 - accuracy: 0.9556\n",
            "Epoch 98/100\n",
            "5/5 [==============================] - 0s 12ms/step - loss: 0.0825 - accuracy: 0.9667\n",
            "Epoch 99/100\n",
            "5/5 [==============================] - 0s 12ms/step - loss: 0.0722 - accuracy: 0.9778\n",
            "Epoch 100/100\n",
            "5/5 [==============================] - 0s 12ms/step - loss: 0.0666 - accuracy: 0.9778\n"
          ]
        },
        {
          "output_type": "execute_result",
          "data": {
            "text/plain": [
              "<keras.src.callbacks.History at 0x7a0a55b22920>"
            ]
          },
          "metadata": {},
          "execution_count": 87
        }
      ],
      "source": [
        "# prepare decoder input data that just contains the start token and the rest is all 0\n",
        "decoder_input_data = np.zeros_like(padded_answers)\n",
        "decoder_input_data[:, 0] = 1  # assuming 1 is the start token\n",
        "\n",
        "# train the model\n",
        "model.fit([padded_questions, decoder_input_data], np.expand_dims(padded_answers, -1), batch_size=2, epochs=100)"
      ]
    },
    {
      "cell_type": "markdown",
      "metadata": {
        "id": "JmcgwWT21ixd"
      },
      "source": [
        "Implement chat methods:"
      ]
    },
    {
      "cell_type": "code",
      "execution_count": 88,
      "metadata": {
        "id": "dVfGVg9c1ikJ"
      },
      "outputs": [],
      "source": [
        "def preprocess_input_text(input_text):\n",
        "    sequence = tokenizer.texts_to_sequences([input_text])\n",
        "    padded_sequence = tf.keras.preprocessing.sequence.pad_sequences(sequence, maxlen=max_length, padding='post')\n",
        "    return padded_sequence\n",
        "\n",
        "def generate_response(input_sequence):\n",
        "    response_sequence = np.zeros((1, max_length))\n",
        "    response_sequence[0, 0] = 1  # start token\n",
        "    for i in range(1, max_length):\n",
        "        prediction = model.predict([input_sequence, response_sequence]).argmax(axis=2)\n",
        "        response_sequence[0, i] = prediction[0, i-1]\n",
        "        if prediction[0, i-1] == 2:  # end token\n",
        "            break\n",
        "    return response_sequence\n",
        "\n",
        "def sequence_to_text(sequence):\n",
        "    return ' '.join(tokenizer.index_word.get(i, '') for i in sequence if i > 2)\n",
        "\n",
        "def chat_with_bot(input_text):\n",
        "    input_sequence = preprocess_input_text(input_text)\n",
        "    response_sequence = generate_response(input_sequence)\n",
        "    response_text = sequence_to_text(response_sequence[0])\n",
        "    return response_text"
      ]
    },
    {
      "cell_type": "markdown",
      "metadata": {
        "id": "BkpVBR7i2AAI"
      },
      "source": [
        "Interactive chat:"
      ]
    },
    {
      "cell_type": "code",
      "execution_count": 89,
      "metadata": {
        "id": "7rVvfRUH1_ux",
        "colab": {
          "base_uri": "https://localhost:8080/"
        },
        "outputId": "2ef5e2a8-faf6-49a9-d1aa-a24e3ab88d9a"
      },
      "outputs": [
        {
          "output_type": "stream",
          "name": "stdout",
          "text": [
            "Start chatting with the bot! Type 'quit' to exit.\n",
            "You: quit\n",
            "Goodbye, thanks for chatting!\n"
          ]
        }
      ],
      "source": [
        "# Interactive chat with the bot\n",
        "print(\"Start chatting with the bot! Type 'quit' to exit.\")\n",
        "while True:\n",
        "    user_input = input(\"You: \")\n",
        "    if user_input.lower() == 'quit':\n",
        "      print(\"Goodbye, thanks for chatting!\")\n",
        "      break\n",
        "    response = chat_with_bot(user_input)\n",
        "    print(f\"Bot: {response}\")\n",
        "    if user_input.find(\"weather\") >= 0:\n",
        "      city = input(\"Bot: What city would you like to check the weather for: \")\n",
        "      json = get_weather_forecast(city)\n",
        "      temp = json['values']['temperature']\n",
        "      uv = json['values']['uvIndex']\n",
        "      print(f\"Bot: {city} has a temperature of {temp} degrees Celsius and a UV index of {uv}.\")"
      ]
    }
  ],
  "metadata": {
    "colab": {
      "provenance": [],
      "gpuType": "T4",
      "include_colab_link": true
    },
    "kernelspec": {
      "display_name": "Python 3",
      "name": "python3"
    },
    "language_info": {
      "name": "python"
    },
    "accelerator": "GPU"
  },
  "nbformat": 4,
  "nbformat_minor": 0
}